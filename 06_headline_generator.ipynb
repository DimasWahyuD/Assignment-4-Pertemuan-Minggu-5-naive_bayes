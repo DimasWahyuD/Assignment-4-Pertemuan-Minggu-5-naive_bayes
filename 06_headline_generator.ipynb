{
  "nbformat": 4,
  "nbformat_minor": 0,
  "metadata": {
    "kernelspec": {
      "display_name": "Python 3",
      "language": "python",
      "name": "python3"
    },
    "language_info": {
      "codemirror_mode": {
        "name": "ipython",
        "version": 3
      },
      "file_extension": ".py",
      "mimetype": "text/x-python",
      "name": "python",
      "nbconvert_exporter": "python",
      "pygments_lexer": "ipython3",
      "version": "3.6.9"
    },
    "colab": {
      "name": "06_headline_generator.ipynb",
      "provenance": [],
      "include_colab_link": true
    }
  },
  "cells": [
    {
      "cell_type": "markdown",
      "metadata": {
        "id": "view-in-github",
        "colab_type": "text"
      },
      "source": [
        "<a href=\"https://colab.research.google.com/github/DimasWahyuD/Assignment-4-Pertemuan-Minggu-5-naive_bayes/blob/main/06_headline_generator.ipynb\" target=\"_parent\"><img src=\"https://colab.research.google.com/assets/colab-badge.svg\" alt=\"Open In Colab\"/></a>"
      ]
    },
    {
      "cell_type": "markdown",
      "metadata": {
        "id": "CKUPvNFaUY_-"
      },
      "source": [
        "<img src=\"./images/DLI_Header.png\" style=\"width: 400px;\">"
      ]
    },
    {
      "cell_type": "markdown",
      "metadata": {
        "id": "sCAnxzNXUZAA"
      },
      "source": [
        "# Sequence Data"
      ]
    },
    {
      "cell_type": "markdown",
      "metadata": {
        "id": "Bn8A6YNsUZAB"
      },
      "source": [
        "In this tutorial, we'll take a detour away from stand-alone pieces of data such as still images, to data that is dependent on other data items in a sequence. For our example, we'll use text sentences. Language is naturally composed of sequence data, in the form of characters in words, and words in sentences. Other examples of sequence data include stock prices and  weather data over time. Videos, while containing still images, are also sequences. Elements in the data have a relationship with what comes before and what comes after, and this fact requires a different approach."
      ]
    },
    {
      "cell_type": "markdown",
      "metadata": {
        "id": "GdP7A-YfUZAC"
      },
      "source": [
        "## Objectives"
      ]
    },
    {
      "cell_type": "markdown",
      "metadata": {
        "id": "FfB3Fa0GUZAD"
      },
      "source": [
        "* Prepare sequence data to use in a [recurrent neural network](https://developers.google.com/machine-learning/glossary#recurrent-neural-network) (RNN)\n",
        "* Build and train a model to perform word prediction"
      ]
    },
    {
      "cell_type": "markdown",
      "metadata": {
        "id": "i-s1YcLqUZAD"
      },
      "source": [
        "## Headline Generator"
      ]
    },
    {
      "cell_type": "markdown",
      "metadata": {
        "id": "gs9fmX0lUZAE"
      },
      "source": [
        "We've all seen text predictors in applications like the search bars, on cell phones, or in text editors that provide autocompletion of sentences. Many of the good text predictor models are trained on very large datasets, and take a lot of time and/or processing power to train. For this exercise, our predictor will be quite simple, but it will provide some simple exposure to language processing, sequence data, and one of the classic architecture elements used to train sequences, *recurrent neural networks* or *RNNs*."
      ]
    },
    {
      "cell_type": "markdown",
      "metadata": {
        "id": "kvl9ZV_OUZAE"
      },
      "source": [
        "## Reading in the Data"
      ]
    },
    {
      "cell_type": "markdown",
      "metadata": {
        "id": "FXdcfXM0UZAF"
      },
      "source": [
        "Our dataset consists of headlines from the [New York Times](https://www.nytimes.com/) newspaper over the course of several months. We'll start by reading in all the headlines from the articles. The articles are in CSV files, so we can use *pandas* to read them in."
      ]
    },
    {
      "cell_type": "code",
      "metadata": {
        "id": "78VR2Nj8UZAG",
        "outputId": "f3b56005-81dc-45c8-f6c7-f212486a49b9"
      },
      "source": [
        "import os \n",
        "import pandas as pd\n",
        "\n",
        "nyt_dir = 'data/nyt_dataset/articles/'\n",
        "\n",
        "all_headlines = []\n",
        "for filename in os.listdir(nyt_dir):\n",
        "    if 'Articles' in filename:\n",
        "        # Read in all the data from the CSV file\n",
        "        headlines_df = pd.read_csv(nyt_dir + filename)\n",
        "        # Add all of the headlines to our list\n",
        "        all_headlines.extend(list(headlines_df.headline.values))\n",
        "len(all_headlines)"
      ],
      "execution_count": null,
      "outputs": [
        {
          "data": {
            "text/plain": [
              "9335"
            ]
          },
          "execution_count": 1,
          "metadata": {},
          "output_type": "execute_result"
        }
      ]
    },
    {
      "cell_type": "markdown",
      "metadata": {
        "id": "Upgp6tm6UZAI"
      },
      "source": [
        "Let's take a look at our first few headlines:"
      ]
    },
    {
      "cell_type": "code",
      "metadata": {
        "id": "m8g3G0p7UZAI",
        "outputId": "49ac81df-658a-495a-f756-a8b1bb8bdef2"
      },
      "source": [
        "all_headlines[:20]"
      ],
      "execution_count": null,
      "outputs": [
        {
          "data": {
            "text/plain": [
              "['My Beijing: The Sacred City',\n",
              " '6 Million Riders a Day, 1930s Technology',\n",
              " 'Seeking a Cross-Border Conference',\n",
              " 'Questions for: ‘Despite the “Yuck Factor,” Leeches Are Big in Russian Medicine’',\n",
              " 'Who Is a ‘Criminal’?',\n",
              " 'An Antidote to Europe’s Populism',\n",
              " 'The Cost of a Speech',\n",
              " 'Degradation of the Language',\n",
              " 'On the Power of Being Awful',\n",
              " 'Trump Garbles Pitch on a Revised Health Bill',\n",
              " 'What’s Going On in This Picture? | May 1, 2017',\n",
              " 'Unknown',\n",
              " 'When Patients Hit a Medical Wall',\n",
              " 'Unknown',\n",
              " 'For Pregnant Women, Getting Serious About Whooping Cough',\n",
              " 'Unknown',\n",
              " 'New York City Transit Reporter in Wonderland: Riding the London Tube',\n",
              " 'How to Cut an Avocado Without Cutting Yourself',\n",
              " 'In Fictional Suicide, Health Experts Say They See a Real Cause for Alarm',\n",
              " 'Claims of Liberal Media Bias Hit ESPN, Too']"
            ]
          },
          "execution_count": 2,
          "metadata": {},
          "output_type": "execute_result"
        }
      ]
    },
    {
      "cell_type": "markdown",
      "metadata": {
        "id": "vmKDpBA4UZAJ"
      },
      "source": [
        "## Cleaning the Data"
      ]
    },
    {
      "cell_type": "markdown",
      "metadata": {
        "id": "PdbBjO7DUZAJ"
      },
      "source": [
        "An important part of natural language processing (NLP) tasks (where computers deal with language), is processing text in a way that computers can understand it. We're going to take each of the words that appears in our dataset and represent it with a number. This will be part of a process called *tokenization*. \n",
        "\n",
        "Before we do that, we need to make sure we have good data. There are some headlines that are listed as \"Unknown\".  We don't want these items in our training set, so we'll filter them out: "
      ]
    },
    {
      "cell_type": "code",
      "metadata": {
        "id": "C2__g2pdUZAK",
        "outputId": "609063a7-80e9-4adf-88ed-731c56dac6af"
      },
      "source": [
        "# Remove all headlines with the value of \"Unknown\"\n",
        "all_headlines = [h for h in all_headlines if h != \"Unknown\"]\n",
        "len(all_headlines)"
      ],
      "execution_count": null,
      "outputs": [
        {
          "data": {
            "text/plain": [
              "8603"
            ]
          },
          "execution_count": 3,
          "metadata": {},
          "output_type": "execute_result"
        }
      ]
    },
    {
      "cell_type": "markdown",
      "metadata": {
        "id": "aDmnRJHYUZAK"
      },
      "source": [
        "Let's take another look:"
      ]
    },
    {
      "cell_type": "code",
      "metadata": {
        "id": "O1B6GFEzUZAK",
        "outputId": "6f8b1f27-214f-48c7-8e5e-9f64537384b1"
      },
      "source": [
        "all_headlines[:20]"
      ],
      "execution_count": null,
      "outputs": [
        {
          "data": {
            "text/plain": [
              "['My Beijing: The Sacred City',\n",
              " '6 Million Riders a Day, 1930s Technology',\n",
              " 'Seeking a Cross-Border Conference',\n",
              " 'Questions for: ‘Despite the “Yuck Factor,” Leeches Are Big in Russian Medicine’',\n",
              " 'Who Is a ‘Criminal’?',\n",
              " 'An Antidote to Europe’s Populism',\n",
              " 'The Cost of a Speech',\n",
              " 'Degradation of the Language',\n",
              " 'On the Power of Being Awful',\n",
              " 'Trump Garbles Pitch on a Revised Health Bill',\n",
              " 'What’s Going On in This Picture? | May 1, 2017',\n",
              " 'When Patients Hit a Medical Wall',\n",
              " 'For Pregnant Women, Getting Serious About Whooping Cough',\n",
              " 'New York City Transit Reporter in Wonderland: Riding the London Tube',\n",
              " 'How to Cut an Avocado Without Cutting Yourself',\n",
              " 'In Fictional Suicide, Health Experts Say They See a Real Cause for Alarm',\n",
              " 'Claims of Liberal Media Bias Hit ESPN, Too',\n",
              " 'Is the dream in Australia crumbling?',\n",
              " 'Police in Texas Change Account in Officer’s Fatal Shooting of 15-Year-Old',\n",
              " 'Most Adults Favor Sex Ed. Most Students Don’t Get It.']"
            ]
          },
          "execution_count": 4,
          "metadata": {},
          "output_type": "execute_result"
        }
      ]
    },
    {
      "cell_type": "markdown",
      "metadata": {
        "id": "5D1Z9rhLUZAL"
      },
      "source": [
        "We also want to remove punctuation and make our sentences all lower case, because this will make our model easier to train.  For our purposes, there is little or no difference between a line ending with \"!\" or \"?\" or whether words are capitalized, as in \"The\" or lower-case, as in \"the\".  With fewer unique tokens, our model will be easier to train. \n",
        "\n",
        "We could filter our sentences prior to tokenization, but we don't need to because this can all be done using the Keras `Tokenizer`."
      ]
    },
    {
      "cell_type": "markdown",
      "metadata": {
        "id": "_OPGb69XUZAL"
      },
      "source": [
        "## Tokenization"
      ]
    },
    {
      "cell_type": "markdown",
      "metadata": {
        "id": "wSRNZYwFUZAL"
      },
      "source": [
        "Right now, our dataset consists of a set of headlines, each made up of a series of words. We want to give our model a way of representing those words in a way that it can understand. With tokenization, we separate a piece of text into smaller chunks (tokens), which in this case are words. Each unique word is then assigned a number, as this is a way that our model can understand the data. Keras has a class that will help us tokenize our data:\n",
        "\n",
        "```python\n",
        "tf.keras.preprocessing.text.Tokenizer(\n",
        "    num_words=None, filters='!\"#$%&()*+,-./:;<=>?@[\\\\]^_`{|}~\\t\\n', lower=True,\n",
        "    split=' ', char_level=False, oov_token=None, document_count=0, **kwargs\n",
        ")\n",
        "```\n",
        "\n",
        "Taking a look at the [Tokenizer](https://www.tensorflow.org/api_docs/python/tf/keras/preprocessing/text/Tokenizer) class in Keras, we see the default values are already set up for our use case.  The `filters` string already removes punctuation and the `lower` flag sets words to lower case."
      ]
    },
    {
      "cell_type": "code",
      "metadata": {
        "id": "OdDbdwIDUZAM",
        "outputId": "09f5c4a4-e702-40d3-f5e4-d1beb8a44c5d"
      },
      "source": [
        "from tensorflow.keras.preprocessing.text import Tokenizer\n",
        "\n",
        "# Tokenize the words in our headlines\n",
        "tokenizer = Tokenizer()\n",
        "tokenizer.fit_on_texts(all_headlines)\n",
        "total_words = len(tokenizer.word_index) + 1\n",
        "print('Total words: ', total_words)"
      ],
      "execution_count": null,
      "outputs": [
        {
          "name": "stdout",
          "output_type": "stream",
          "text": [
            "Total words:  11753\n"
          ]
        }
      ]
    },
    {
      "cell_type": "markdown",
      "metadata": {
        "id": "uj9B9Yu7UZAM"
      },
      "source": [
        "We can take a quick look at the `word_index` dictionary to see how the tokenizer saves the words:"
      ]
    },
    {
      "cell_type": "code",
      "metadata": {
        "id": "v7o9yjdTUZAM",
        "outputId": "e792e411-48a0-4fd2-d06b-577edcdd9ece"
      },
      "source": [
        "# Print a subset of the word_index dictionary created by Tokenizer\n",
        "subset_dict = {key: value for key, value in tokenizer.word_index.items() \\\n",
        "               if key in ['a','man','a','plan','a','canal','panama']}\n",
        "print(subset_dict)"
      ],
      "execution_count": null,
      "outputs": [
        {
          "name": "stdout",
          "output_type": "stream",
          "text": [
            "{'a': 2, 'plan': 82, 'man': 139, 'panama': 2732, 'canal': 7047}\n"
          ]
        }
      ]
    },
    {
      "cell_type": "markdown",
      "metadata": {
        "id": "fNJGroUFUZAM"
      },
      "source": [
        "We can use the `texts_to_sequences` method to see how the tokenizer saves the words:"
      ]
    },
    {
      "cell_type": "code",
      "metadata": {
        "id": "R7e8VozIUZAN",
        "outputId": "e64e302e-4b93-436c-e4a7-64b308b0e872"
      },
      "source": [
        "tokenizer.texts_to_sequences(['a','man','a','plan','a','canal','panama'])"
      ],
      "execution_count": null,
      "outputs": [
        {
          "data": {
            "text/plain": [
              "[[2], [139], [2], [82], [2], [7047], [2732]]"
            ]
          },
          "execution_count": 7,
          "metadata": {},
          "output_type": "execute_result"
        }
      ]
    },
    {
      "cell_type": "markdown",
      "metadata": {
        "id": "a01Lh_9cUZAN"
      },
      "source": [
        "## Creating Sequences"
      ]
    },
    {
      "cell_type": "markdown",
      "metadata": {
        "id": "vAVqSW3JUZAN"
      },
      "source": [
        "Now that we've tokenized the data, turning each word into a representative number, we will create sequences of tokens from the headlines. These sequences are what we will train our deep learning model on. \n",
        "\n",
        "For example, let's take the headline, \"nvidia launches ray tracing gpus\". Each word is going to be replaced by a corresponding number, for instance: nvidia - 5, launches - 22, ray - 94, tracing - 16, gpus - 102. The full sequence would be: [5, 22, 94, 16, 102]. However, it is also valuable to train on the smaller sequences within the headline, such as \"nvidia launches\". We'll take each headline and create a set of sequences to fill our dataset. Next, let's use our tokenizer to convert our headlines to a set of sequences."
      ]
    },
    {
      "cell_type": "code",
      "metadata": {
        "id": "Az6jCYSjUZAN",
        "outputId": "3f63e5d3-a7ad-4129-8ca9-4962745ba5f3"
      },
      "source": [
        "# Convert data to sequence of tokens \n",
        "input_sequences = []\n",
        "for line in all_headlines:\n",
        "    # Convert our headline into a sequence of tokens\n",
        "    token_list = tokenizer.texts_to_sequences([line])[0]\n",
        "    \n",
        "    # Create a series of sequences for each headline\n",
        "    for i in range(1, len(token_list)):\n",
        "        partial_sequence = token_list[:i+1]\n",
        "        input_sequences.append(partial_sequence)\n",
        "\n",
        "print(tokenizer.sequences_to_texts(input_sequences[:5]))\n",
        "input_sequences[:5]"
      ],
      "execution_count": null,
      "outputs": [
        {
          "name": "stdout",
          "output_type": "stream",
          "text": [
            "['my beijing', 'my beijing the', 'my beijing the sacred', 'my beijing the sacred city', '6 million']\n"
          ]
        },
        {
          "data": {
            "text/plain": [
              "[[52, 1616],\n",
              " [52, 1616, 1],\n",
              " [52, 1616, 1, 1992],\n",
              " [52, 1616, 1, 1992, 125],\n",
              " [126, 346]]"
            ]
          },
          "execution_count": 8,
          "metadata": {},
          "output_type": "execute_result"
        }
      ]
    },
    {
      "cell_type": "markdown",
      "metadata": {
        "id": "DeTL0TnxUZAO"
      },
      "source": [
        "## Padding Sequences"
      ]
    },
    {
      "cell_type": "markdown",
      "metadata": {
        "id": "oN0HW8mvUZAO"
      },
      "source": [
        "Right now our sequences are of various lengths. For our model to be able to train on the data, we need to make all the sequences the same length. To do this we'll add padding to the sequences. Keras has a built-in `pad_sequences` [method](https://www.tensorflow.org/api_docs/python/tf/keras/preprocessing/sequence/pad_sequences) that we can use. "
      ]
    },
    {
      "cell_type": "code",
      "metadata": {
        "id": "YWFFha9LUZAO",
        "outputId": "2bfc9646-c0a0-4a64-dd7f-387f7ffd7141"
      },
      "source": [
        "from tensorflow.keras.preprocessing.sequence import pad_sequences\n",
        "import numpy as np\n",
        "\n",
        "# Determine max sequence length\n",
        "max_sequence_len = max([len(x) for x in input_sequences])\n",
        "\n",
        "# Pad all sequences with zeros at the beginning to make them all max length\n",
        "input_sequences = np.array(pad_sequences(input_sequences, maxlen=max_sequence_len, padding='pre'))\n",
        "input_sequences[0]"
      ],
      "execution_count": null,
      "outputs": [
        {
          "data": {
            "text/plain": [
              "array([   0,    0,    0,    0,    0,    0,    0,    0,    0,    0,    0,\n",
              "          0,    0,    0,    0,    0,    0,    0,    0,    0,    0,    0,\n",
              "          0,    0,    0,    0,   52, 1616], dtype=int32)"
            ]
          },
          "execution_count": 9,
          "metadata": {},
          "output_type": "execute_result"
        }
      ]
    },
    {
      "cell_type": "markdown",
      "metadata": {
        "id": "L_gdro0pUZAO"
      },
      "source": [
        "## Creating Predictors and Target"
      ]
    },
    {
      "cell_type": "markdown",
      "metadata": {
        "id": "Hl7mhXluUZAO"
      },
      "source": [
        "We also want to split up our sequences into predictors and a target. The last word of the sequence will be our target, and the first words of the sequence will be our predictors. As an example, take a look at the full headline: \"nvidia releases ampere graphics cards\""
      ]
    },
    {
      "cell_type": "markdown",
      "metadata": {
        "id": "EVuioqRHUZAP"
      },
      "source": [
        "<table>\n",
        "<tr><td>PREDICTORS </td> <td>           TARGET </td></tr>\n",
        "<tr><td>nvidia                   </td> <td>  releases </td></tr>\n",
        "<tr><td>nvidia releases               </td> <td>  ampere </td></tr>\n",
        "<tr><td>nvidia releases ampere      </td> <td>  graphics</td></tr>\n",
        "<tr><td>nvidia releases ampere graphics </td> <td>  cards</td></tr>\n",
        "</table>"
      ]
    },
    {
      "cell_type": "code",
      "metadata": {
        "id": "jS7h_X5UUZAP",
        "outputId": "5b87ac02-2213-4837-8e16-4730118b8134"
      },
      "source": [
        "# Predictors are every word except the last\n",
        "predictors = input_sequences[:,:-1]\n",
        "# Labels are the last word\n",
        "labels = input_sequences[:,-1]\n",
        "labels[:5]"
      ],
      "execution_count": null,
      "outputs": [
        {
          "data": {
            "text/plain": [
              "array([1616,    1, 1992,  125,  346], dtype=int32)"
            ]
          },
          "execution_count": 10,
          "metadata": {},
          "output_type": "execute_result"
        }
      ]
    },
    {
      "cell_type": "markdown",
      "metadata": {
        "id": "cDaLVWpWUZAP"
      },
      "source": [
        "Like our earlier sections, these targets are categorical. We are predicting one word out of our possible total vocabulary. Instead of the network predicting scalar numbers, we will have it predict binary categories. "
      ]
    },
    {
      "cell_type": "code",
      "metadata": {
        "id": "dU3dOthCUZAP"
      },
      "source": [
        "from tensorflow.keras import utils\n",
        "\n",
        "labels = utils.to_categorical(labels, num_classes=total_words)"
      ],
      "execution_count": null,
      "outputs": []
    },
    {
      "cell_type": "markdown",
      "metadata": {
        "id": "AeE552mJUZAQ"
      },
      "source": [
        "## Creating the Model"
      ]
    },
    {
      "cell_type": "markdown",
      "metadata": {
        "id": "J-DdncAbUZAQ"
      },
      "source": [
        "For our model, we're going to use a couple of new layers to deal with our sequential data. "
      ]
    },
    {
      "cell_type": "markdown",
      "metadata": {
        "id": "dSKk2vejUZAQ"
      },
      "source": [
        "### [Embedding Layer](https://www.tensorflow.org/api_docs/python/tf/keras/layers/Embedding)"
      ]
    },
    {
      "cell_type": "markdown",
      "metadata": {
        "id": "rzmffouCUZAQ"
      },
      "source": [
        "Our first layer is an embedding layer:\n",
        "\n",
        "```Python\n",
        "model.add(Embedding(input_dimension, output_dimension, input_length=input_len))\n",
        "```\n",
        "\n",
        "This layer will take the tokenized sequences and will learn an embedding for all of the words in the training dataset. Mathematically, embeddings work the same way as a neuron in a neural network, but conceptually, their goal is to reduce the number of dimensions for some or all of the features. In this case, it will represent each word as a vector, and the information within that vector will contain the relationships between each word.\n",
        "\n",
        "Learn more about embedding layers [here](https://machinelearningmastery.com/use-word-embedding-layers-deep-learning-keras/).\n",
        "\n",
        "<img src=\"./images/embedding.png\" style=\"width: 300px;\">"
      ]
    },
    {
      "cell_type": "markdown",
      "metadata": {
        "id": "AuGTc1gWUZAQ"
      },
      "source": [
        "### [Long Short Term Memory Layer](https://www.tensorflow.org/api_docs/python/tf/keras/layers/LSTM)"
      ]
    },
    {
      "cell_type": "markdown",
      "metadata": {
        "id": "4w7s3riYUZAQ"
      },
      "source": [
        "Our next, and very important layer, is a long short term memory layer (LSTM). An LSTM is a type of recurrent neural network or RNN. Unlike traditional feed-forward networks that we've seen so far, recurrent networks have loops in them, allowing information to persist. Here's a representation of a recurrent network:"
      ]
    },
    {
      "cell_type": "markdown",
      "metadata": {
        "id": "fi9WdQ2TUZAQ"
      },
      "source": [
        "<img src=\"./images/rnn_rolled.png\" style=\"width: 150px;\">"
      ]
    },
    {
      "cell_type": "markdown",
      "metadata": {
        "id": "cwEQaKxHUZAQ"
      },
      "source": [
        "New information (x) gets passed in to the network, which spits out a prediction (h). Additionally, information from that layer gets saved, and used as input for the next prediction. This may seem a bit complicated, but let's look at it unrolled: "
      ]
    },
    {
      "cell_type": "markdown",
      "metadata": {
        "id": "thgh8LGQUZAR"
      },
      "source": [
        "<img src=\"./images/rnn_unrolled.png\" style=\"width: 600px;\">"
      ]
    },
    {
      "cell_type": "markdown",
      "metadata": {
        "id": "Hpe5YTW2UZAR"
      },
      "source": [
        "We can see that when a new piece of data (x) is fed into the network, that network both spits out a prediction (h) and also passes some information along to the next layer. That next layer gets another piece of data, but gets to learn from the layer before it as well.\n",
        "\n",
        "Traditional RNNs suffer from the issue of more recent information contributing more than information from further back. LSTMs are a special type of recurrent layer that are able to learn and retain longer term information. If you'd like to read more about RNNs and LSTMs, we recommend [this article](https://colah.github.io/posts/2015-08-Understanding-LSTMs/). \n",
        "\n",
        "Alright, let's create our model:"
      ]
    },
    {
      "cell_type": "code",
      "metadata": {
        "id": "bVGAUAecUZAR"
      },
      "source": [
        "from tensorflow.keras.layers import Embedding, LSTM, Dense, Dropout\n",
        "from tensorflow.keras.models import Sequential\n",
        "\n",
        "# Input is max sequence length - 1, as we've removed the last word for the label\n",
        "input_len = max_sequence_len - 1 \n",
        "\n",
        "model = Sequential()\n",
        "\n",
        "# Add input embedding layer\n",
        "model.add(Embedding(total_words, 10, input_length=input_len))\n",
        "\n",
        "# Add LSTM layer with 100 units\n",
        "model.add(LSTM(100))\n",
        "model.add(Dropout(0.1))\n",
        "\n",
        "# Add output layer\n",
        "model.add(Dense(total_words, activation='softmax'))"
      ],
      "execution_count": null,
      "outputs": []
    },
    {
      "cell_type": "code",
      "metadata": {
        "id": "uWfYa41MUZAR",
        "outputId": "537eeb28-fe0b-4c60-ad92-5990dacacbf4"
      },
      "source": [
        "model.summary()"
      ],
      "execution_count": null,
      "outputs": [
        {
          "name": "stdout",
          "output_type": "stream",
          "text": [
            "Model: \"sequential\"\n",
            "_________________________________________________________________\n",
            "Layer (type)                 Output Shape              Param #   \n",
            "=================================================================\n",
            "embedding (Embedding)        (None, 27, 10)            117530    \n",
            "_________________________________________________________________\n",
            "lstm (LSTM)                  (None, 100)               44400     \n",
            "_________________________________________________________________\n",
            "dropout (Dropout)            (None, 100)               0         \n",
            "_________________________________________________________________\n",
            "dense (Dense)                (None, 11753)             1187053   \n",
            "=================================================================\n",
            "Total params: 1,348,983\n",
            "Trainable params: 1,348,983\n",
            "Non-trainable params: 0\n",
            "_________________________________________________________________\n"
          ]
        }
      ]
    },
    {
      "cell_type": "markdown",
      "metadata": {
        "id": "Bapceee2UZAR"
      },
      "source": [
        "## Compiling the Model"
      ]
    },
    {
      "cell_type": "markdown",
      "metadata": {
        "id": "dAkQdnL4UZAR"
      },
      "source": [
        "As before, we compile our model with categorical crossentropy, as we're categorically predicting one word from our total vocabulary. In this case, we are not going to use accuracy as a metric, because text prediction is not measured as being more or less accurate in the same way as image classification.\n",
        "\n",
        "We are also going to select a particular optimizer that is well suited for LSTM tasks, called the *Adam* optimizer. Details of optimizers are a bit out of scope for this course, but what's important to know is that different optimizers can be better for different deep learning tasks. You can read more about them, including the Adam optimizer [here](https://medium.com/datadriveninvestor/overview-of-different-optimizers-for-neural-networks-e0ed119440c3). "
      ]
    },
    {
      "cell_type": "code",
      "metadata": {
        "id": "YSv-jz_5UZAS"
      },
      "source": [
        "model.compile(loss='categorical_crossentropy', optimizer='adam')"
      ],
      "execution_count": null,
      "outputs": []
    },
    {
      "cell_type": "markdown",
      "metadata": {
        "id": "13M7QqgeUZAS"
      },
      "source": [
        "## Training the Model"
      ]
    },
    {
      "cell_type": "markdown",
      "metadata": {
        "id": "YJLqv57MUZAS"
      },
      "source": [
        "Similar to earlier sections, we fit our model in the same way. This time we'll train for 30 epochs, which will take a few minutes. You'll notice that we don't have a training or validation accuracy score in this case. This reflects our different problem of text prediction."
      ]
    },
    {
      "cell_type": "code",
      "metadata": {
        "scrolled": true,
        "id": "TzeKZXoTUZAS",
        "outputId": "5b1453c2-0038-4107-e1ca-198262c1ac03"
      },
      "source": [
        "model.fit(predictors, labels, epochs=30, verbose=1)"
      ],
      "execution_count": null,
      "outputs": [
        {
          "name": "stdout",
          "output_type": "stream",
          "text": [
            "Epoch 1/30\n",
            "1666/1666 [==============================] - 7s 4ms/step - loss: 7.8918\n",
            "Epoch 2/30\n",
            "1666/1666 [==============================] - 7s 4ms/step - loss: 7.4805\n",
            "Epoch 3/30\n",
            "1666/1666 [==============================] - 7s 4ms/step - loss: 7.2897\n",
            "Epoch 4/30\n",
            "1666/1666 [==============================] - 7s 4ms/step - loss: 7.0687\n",
            "Epoch 5/30\n",
            "1666/1666 [==============================] - 7s 4ms/step - loss: 6.8245\n",
            "Epoch 6/30\n",
            "1666/1666 [==============================] - 7s 4ms/step - loss: 6.5666\n",
            "Epoch 7/30\n",
            "1666/1666 [==============================] - 7s 4ms/step - loss: 6.3128\n",
            "Epoch 8/30\n",
            "1666/1666 [==============================] - 7s 4ms/step - loss: 6.0619\n",
            "Epoch 9/30\n",
            "1666/1666 [==============================] - 7s 4ms/step - loss: 5.8138\n",
            "Epoch 10/30\n",
            "1666/1666 [==============================] - 7s 4ms/step - loss: 5.5803\n",
            "Epoch 11/30\n",
            "1666/1666 [==============================] - 7s 4ms/step - loss: 5.3641\n",
            "Epoch 12/30\n",
            "1666/1666 [==============================] - 7s 4ms/step - loss: 5.1562\n",
            "Epoch 13/30\n",
            "1666/1666 [==============================] - 7s 4ms/step - loss: 4.9595\n",
            "Epoch 14/30\n",
            "1666/1666 [==============================] - 7s 4ms/step - loss: 4.7769\n",
            "Epoch 15/30\n",
            "1666/1666 [==============================] - 7s 4ms/step - loss: 4.5997\n",
            "Epoch 16/30\n",
            "1666/1666 [==============================] - 7s 4ms/step - loss: 4.4391\n",
            "Epoch 17/30\n",
            "1666/1666 [==============================] - 7s 4ms/step - loss: 4.2894\n",
            "Epoch 18/30\n",
            "1666/1666 [==============================] - 7s 4ms/step - loss: 4.1454\n",
            "Epoch 19/30\n",
            "1666/1666 [==============================] - 7s 4ms/step - loss: 4.0041\n",
            "Epoch 20/30\n",
            "1666/1666 [==============================] - 7s 4ms/step - loss: 3.8751\n",
            "Epoch 21/30\n",
            "1666/1666 [==============================] - 7s 4ms/step - loss: 3.7593\n",
            "Epoch 22/30\n",
            "1666/1666 [==============================] - 7s 4ms/step - loss: 3.6452\n",
            "Epoch 23/30\n",
            "1666/1666 [==============================] - 7s 4ms/step - loss: 3.5447\n",
            "Epoch 24/30\n",
            "1666/1666 [==============================] - 7s 4ms/step - loss: 3.4434\n",
            "Epoch 25/30\n",
            "1666/1666 [==============================] - 7s 4ms/step - loss: 3.3522\n",
            "Epoch 26/30\n",
            "1666/1666 [==============================] - 7s 4ms/step - loss: 3.2640\n",
            "Epoch 27/30\n",
            "1666/1666 [==============================] - 7s 4ms/step - loss: 3.1802\n",
            "Epoch 28/30\n",
            "1666/1666 [==============================] - 7s 4ms/step - loss: 3.1059\n",
            "Epoch 29/30\n",
            "1666/1666 [==============================] - 7s 4ms/step - loss: 3.0337\n",
            "Epoch 30/30\n",
            "1666/1666 [==============================] - 7s 4ms/step - loss: 2.9645\n"
          ]
        },
        {
          "data": {
            "text/plain": [
              "<tensorflow.python.keras.callbacks.History at 0x7efdb8b233c8>"
            ]
          },
          "execution_count": 15,
          "metadata": {},
          "output_type": "execute_result"
        }
      ]
    },
    {
      "cell_type": "markdown",
      "metadata": {
        "id": "3zQUTDPcUZAS"
      },
      "source": [
        "## Discussion of Results"
      ]
    },
    {
      "cell_type": "markdown",
      "metadata": {
        "id": "DIRrEuiMUZAS"
      },
      "source": [
        "We can see that the loss decreased over the course of training. We could train our model further to decrease the loss, but that would take some time, and we're not looking for a perfect text predictor right now. Next let's try using the model to make predictions. "
      ]
    },
    {
      "cell_type": "markdown",
      "metadata": {
        "id": "e-nC-1GsUZAS"
      },
      "source": [
        "## Making Predictions"
      ]
    },
    {
      "cell_type": "markdown",
      "metadata": {
        "id": "671EE7eiUZAT"
      },
      "source": [
        "In order to make predictions, we'll need to start with a seed text, and prepare it in the same way we prepared our dataset. This will mean tokenizing and padding. Once we do this, we can pass it into our model to make a prediction. We'll create a function to do this called `predict_next_token`:"
      ]
    },
    {
      "cell_type": "code",
      "metadata": {
        "id": "Lrig2kZFUZAT"
      },
      "source": [
        "def predict_next_token(seed_text):\n",
        "    token_list = tokenizer.texts_to_sequences([seed_text])[0]\n",
        "    token_list = pad_sequences([token_list], maxlen=max_sequence_len-1, padding='pre')\n",
        "    prediction = model.predict_classes(token_list, verbose=0)\n",
        "    return prediction"
      ],
      "execution_count": null,
      "outputs": []
    },
    {
      "cell_type": "code",
      "metadata": {
        "id": "xBWgQcaHUZAT"
      },
      "source": [
        "prediction = predict_next_token(\"today in new york\")\n",
        "prediction"
      ],
      "execution_count": null,
      "outputs": []
    },
    {
      "cell_type": "markdown",
      "metadata": {
        "id": "pyeoI0CRUZAT"
      },
      "source": [
        "Let's use our tokenizer to decode the predicted word:"
      ]
    },
    {
      "cell_type": "code",
      "metadata": {
        "id": "KoARu5mYUZAT"
      },
      "source": [
        "tokenizer.sequences_to_texts([prediction])"
      ],
      "execution_count": null,
      "outputs": []
    },
    {
      "cell_type": "markdown",
      "metadata": {
        "id": "8okmU-kwUZAT"
      },
      "source": [
        "## Generate New Headlines"
      ]
    },
    {
      "cell_type": "markdown",
      "metadata": {
        "id": "q-kqImObUZAT"
      },
      "source": [
        "Now that we're able to predict new words, let's create a function that can predict headlines of more than just one word. The function below creates a new headline of arbitrary length."
      ]
    },
    {
      "cell_type": "code",
      "metadata": {
        "id": "K4H2PZ9KUZAT"
      },
      "source": [
        "def generate_headline(seed_text, next_words=1):\n",
        "    for _ in range(next_words):\n",
        "        # Predict next token\n",
        "        prediction = predict_next_token(seed_text)\n",
        "        # Convert token to word\n",
        "        next_word = tokenizer.sequences_to_texts([prediction])[0]\n",
        "        # Add next word to the headline. This headline will be used in the next pass of the loop.\n",
        "        seed_text += \" \" + next_word\n",
        "    # Return headline as title-case\n",
        "    return seed_text.title()"
      ],
      "execution_count": null,
      "outputs": []
    },
    {
      "cell_type": "markdown",
      "metadata": {
        "id": "x0WzOHHDUZAU"
      },
      "source": [
        "Now try some headlines!"
      ]
    },
    {
      "cell_type": "code",
      "metadata": {
        "id": "mu52qJPkUZAU"
      },
      "source": [
        "seed_texts = [\n",
        "    'washington dc is',\n",
        "    'today in new york',\n",
        "    'the school district has',\n",
        "    'crime has become']\n",
        "for seed in seed_texts:\n",
        "    print(generate_headline(seed, next_words=5))"
      ],
      "execution_count": null,
      "outputs": []
    },
    {
      "cell_type": "markdown",
      "metadata": {
        "id": "IHdS5TbTUZAU"
      },
      "source": [
        "The results may be a bit underwhelming after 30 epochs of training.  We can notice that most of the headlines make some kind of grammatical sense, but don't necessarily indicate a good contextual understanding.  The results might improve somewhat by running more epochs. You can do this by runnning the training `fit` cell again (and again!) to train another 30 epochs each time.  You should see the loss value go down.  Then try the tests again.  Results can vary quite a bit!\n",
        "\n",
        "Other improvements would be to try using pretrained embeddings with Word2Vec or GloVe, rather than learning them during training as we did with the Keras Embedding layer.  Some information on how to do that can be found [here](https://blog.keras.io/using-pre-trained-word-embeddings-in-a-keras-model.html).\n",
        "\n",
        "Ultimately, however, NLP has moved beyond simple LSTM models to Transformer-based pre-trained models, which are able to learn language context from huge amounts of textual data such as Wikipedia.  These pre-trained models are then used as a starting point for transfer learning to solve NLP tasks such as the one we just tried for text completion.  You can try one of these models yourself by checking out this [state-of-the-art text predictor here](https://transformer.huggingface.co/doc/gpt2-large) based on a [GPT-2 model](https://openai.com/blog/better-language-models/).\n",
        "\n",
        "To learn more about Transformer-based models, check out [this blog](https://ai.googleblog.com/2018/11/open-sourcing-bert-state-of-art-pre.html) on Bidirectional Encoder Representations from Transformers (BERT) and look for information on additional coursework in the \"Next Steps\" page for this DLI course."
      ]
    },
    {
      "cell_type": "markdown",
      "metadata": {
        "id": "LkYqBDChUZAU"
      },
      "source": [
        "## Summary"
      ]
    },
    {
      "cell_type": "markdown",
      "metadata": {
        "id": "ahAgZ3SvUZAU"
      },
      "source": [
        "Great work! You've successfully trained a model to predict words in a headline, and used that model to create headlines of various lengths. Feel free to experiment and generate some more headlines."
      ]
    },
    {
      "cell_type": "markdown",
      "metadata": {
        "id": "9RnhZySLUZAU"
      },
      "source": [
        "### Clear the Memory\n",
        "Before moving on, please execute the following cell to clear up the GPU memory."
      ]
    },
    {
      "cell_type": "code",
      "metadata": {
        "id": "UIHdif03UZAU"
      },
      "source": [
        "import IPython\n",
        "app = IPython.Application.instance()\n",
        "app.kernel.do_shutdown(True)"
      ],
      "execution_count": null,
      "outputs": []
    },
    {
      "cell_type": "markdown",
      "metadata": {
        "id": "xaZeuWWrUZAV"
      },
      "source": [
        "## Next"
      ]
    },
    {
      "cell_type": "markdown",
      "metadata": {
        "id": "eqc0w6jfUZAV"
      },
      "source": [
        "Congratulations, you have completed all the learning objectives of the course!\n",
        "\n",
        "As a final exercise, and to earn certification in the course, successfully complete an end-to-end image classification problem in the assessment."
      ]
    }
  ]
}